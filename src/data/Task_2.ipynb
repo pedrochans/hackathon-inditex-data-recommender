{
 "cells": [
  {
   "cell_type": "markdown",
   "metadata": {},
   "source": [
    "## Jupyter Notebook para desarrollar la Task 2"
   ]
  },
  {
   "cell_type": "markdown",
   "metadata": {},
   "source": [
    "Lectura de los DataFrames:"
   ]
  },
  {
   "cell_type": "code",
   "execution_count": 1,
   "metadata": {},
   "outputs": [],
   "source": [
    "from pathlib import Path    \n",
    "import pandas as pd\n",
    "\n",
    "RAW_DATA_PATH = Path('../../data/raw')\n",
    "\n",
    "train_df = pd.read_csv(         RAW_DATA_PATH / 'train.csv')\n",
    "test_df = pd.read_csv(          RAW_DATA_PATH / 'test.csv')\n",
    "products_df = pd.read_pickle(   RAW_DATA_PATH / 'products.pkl')\n",
    "users_df = pd.read_csv(         RAW_DATA_PATH / 'users_data.csv')"
   ]
  },
  {
   "cell_type": "code",
   "execution_count": 2,
   "metadata": {},
   "outputs": [],
   "source": [
    "import ast\n",
    "\n",
    "# Extraer datos del string (JSON) de la columna 'values'\n",
    "def extract_data_from_string(df, column_name):\n",
    "    \n",
    "    df[column_name] = df[column_name].apply(ast.literal_eval)\n",
    "    \n",
    "    df['country'] = df[column_name].apply(lambda x: x['country'])\n",
    "    df['R'] = df[column_name].apply(lambda x: x['R'])\n",
    "    df['F'] = df[column_name].apply(lambda x: x['F'])\n",
    "    df['M'] = df[column_name].apply(lambda x: x['M'])\n",
    "    \n",
    "    df = df.drop(columns=[column_name])\n",
    "    \n",
    "    df = df.explode(['country', 'R', 'F', 'M'])\n",
    "    \n",
    "    df['country'] = df['country'].astype(int)\n",
    "    df['R'] = df['R'].astype(int)\n",
    "    df['F'] = df['F'].astype(int)\n",
    "    df['M'] = df['M'].astype(float)\n",
    "    \n",
    "    return df\n",
    "\n",
    "users_df = extract_data_from_string(users_df, 'values')"
   ]
  },
  {
   "cell_type": "markdown",
   "metadata": {},
   "source": [
    "Pruebas:"
   ]
  },
  {
   "cell_type": "code",
   "execution_count": 27,
   "metadata": {},
   "outputs": [
    {
     "name": "stdout",
     "output_type": "stream",
     "text": [
      "    user_id  session_id  total_session_time  cart_addition_ratio\n",
      "0      8287      185012              122.25                20.00\n",
      "1      8287      279302             1912.75                 0.00\n",
      "2      8287      298726               58.92                 0.00\n",
      "3      8287      323810               86.83                25.00\n",
      "4      8287     1583804              199.17                 0.00\n",
      "5      8287     1786356              173.03                 0.00\n",
      "6      8287     1812557              105.79                 0.00\n",
      "7      8287     2242336              242.41                 0.00\n",
      "8      8287     2854366                0.00                 0.00\n",
      "9      8287     2942009             1320.83                 0.00\n",
      "10     8287     2978783              176.38                 0.00\n",
      "11     8287     3028792                2.33                 0.00\n",
      "12     8287     3564719              217.39                18.18\n",
      "13     8287     3752200              513.27                 0.00\n",
      "14     8287     3799661              111.01                 0.00\n",
      "15     8287     3800621                0.00                 0.00\n",
      "16     8287     4173888               75.43                 0.00\n",
      "17     8287     4364573              162.91                 0.00\n",
      "18     8287     4560883              108.53                20.00\n"
     ]
    }
   ],
   "source": [
    "import importlib\n",
    "import session_metrics\n",
    "importlib.reload(session_metrics) # Para obtener la version mas reciente cada vez que se ejecute\n",
    "from session_metrics import get_session_metrics\n",
    "\n",
    "a = get_session_metrics(train_df, user_id=8287)\n",
    "print(a)"
   ]
  },
  {
   "cell_type": "markdown",
   "metadata": {},
   "source": [
    "En la pregunta se dice:\n",
    "\n",
    "    - cart_addition_ratio (float) : Percentage of the added products out of the total products interacted with. Rounded ot the 2nd decimal.\n",
    "\n",
    "Tenemos el siguiente ejemplo:\n"
   ]
  },
  {
   "cell_type": "code",
   "execution_count": 25,
   "metadata": {},
   "outputs": [
    {
     "name": "stdout",
     "output_type": "stream",
     "text": [
      "  partnumber add_to_cart      \n",
      "                     sum count\n",
      "0       6703           1     2\n",
      "1       7348           0     1\n",
      "2      11145           1     2\n",
      "3      11493           0     1\n",
      "4      19515           0     1\n",
      "5      30740           0     3\n",
      "6      40810           0     1\n"
     ]
    }
   ],
   "source": [
    "# Filtramos los datos para el usuario\n",
    "user_data_aux = train_df[train_df['user_id'] == 8287]\n",
    "user_data_aux.loc[:,'timestamp_local'] = pd.to_datetime(user_data_aux['timestamp_local'])\n",
    "\n",
    "session_data = user_data_aux[user_data_aux['session_id'] == 3564719]\n",
    "\n",
    "# Calculamos el tiempo total de la sesión\n",
    "total_session_time_aux = (session_data['timestamp_local'].max() - session_data['timestamp_local'].min()).total_seconds()\n",
    "total_session_time_aux = round(total_session_time_aux, 2)\n",
    "\n",
    "# Calculamos la proporción de productos añadidos al carrito\n",
    "total_products_cart_aux = session_data[session_data['add_to_cart']==1]['partnumber'].nunique()\n",
    "total_products_visited_aux = session_data['partnumber'].nunique()\n",
    "cart_addition_ratio_aux = round(100 * total_products_cart_aux / total_products_visited_aux if total_products_visited_aux > 0 else 0, 2)\n",
    "\n",
    "a = session_data.groupby('partnumber').agg({'add_to_cart': ['sum','count']}).reset_index()\n",
    "\n",
    "print(a)\n"
   ]
  },
  {
   "cell_type": "markdown",
   "metadata": {},
   "source": [
    "- Hay 7 productos, 2 han sido agregados al carrito, lo que nos da 28.57% de productos añadidos al carro sobre el total de productos con los que se ha interaccionado siendo estrictos con la pregunta.\n",
    "- Ahora bien, si calculamos la proporción de adiciones al carrito sobre el numero total de visitas , nos da 18.18% que es lo que devuelven los tests unitarios..."
   ]
  }
 ],
 "metadata": {
  "kernelspec": {
   "display_name": "Python 3",
   "language": "python",
   "name": "python3"
  },
  "language_info": {
   "codemirror_mode": {
    "name": "ipython",
    "version": 3
   },
   "file_extension": ".py",
   "mimetype": "text/x-python",
   "name": "python",
   "nbconvert_exporter": "python",
   "pygments_lexer": "ipython3",
   "version": "3.12.0"
  }
 },
 "nbformat": 4,
 "nbformat_minor": 2
}
